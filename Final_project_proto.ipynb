{
 "cells": [
  {
   "cell_type": "code",
   "execution_count": 1,
   "metadata": {},
   "outputs": [],
   "source": [
    "from PIL import Image\n",
    "import os\n",
    "import numpy as np\n",
    "import tensorflow as tf\n",
    "import matplotlib.pyplot as plt\n",
    "\n",
    "# from tensorflow.keras.applications.vgg16 import preprocess_input"
   ]
  },
  {
   "cell_type": "markdown",
   "metadata": {},
   "source": [
    "# Both Category and Landmark "
   ]
  },
  {
   "cell_type": "code",
   "execution_count": 2,
   "metadata": {},
   "outputs": [],
   "source": [
    "import os\n",
    "import numpy as np\n",
    "from tensorflow.keras.preprocessing.image import load_img, img_to_array\n",
    "\n",
    "target_size = (320, 320, 3)\n",
    "\n",
    "def load_images_and_labels(base_path):\n",
    "    images = []\n",
    "    category_labels = []\n",
    "    landmark_labels = []\n",
    "    category_label_to_idx = {}\n",
    "    landmark_label_to_idx = {}\n",
    "    category_idx = None\n",
    "    \n",
    "    # categories\n",
    "    categories = ['Pagodas','Pyramids','Modern','Gothic','Mughal','Neoclassical']\n",
    "    \n",
    "    # landmarks\n",
    "    landmarks = [\n",
    "        'TianningTemplePagoda','ThienMuPagoda','GiantWildGoosePagoda','ShwedagonPagoda','FogongTemplePagoda','Pyramid of Giza','Pyramid of Djoser','Santa Cecilia Acatitlan Pyramid','El Castillo, Chichen Itza','Louvre Pyramid','Chrysler Building','Cathedral of Brasília','CCTV Headquarters','Hallgrímskirkja','eiffel','St.VitusCathedral','MilanCathedral','ChartresCathedral','CologneCathedral','Notre-DameCathedral',\n",
    "        'Taj Mahal','Tomb of Akbar','Jama Masjid','Tomb of I_timad-ud-Daulah',\n",
    "        'Bibi Ka Maqbara','Buckingham Palace','Concertgebouw','Academy of Athens','Panthéon','Ripon Building','other']\n",
    "    category_idx = 0\n",
    "    landmark_idx = 0\n",
    "\n",
    "    for category in os.listdir(base_path):\n",
    "        if category == '.DS_Store':\n",
    "            continue\n",
    "        category_path = os.path.join(base_path, category)\n",
    "        category_label_to_idx[category] = category_idx\n",
    "\n",
    "        for landmark in os.listdir(category_path):\n",
    "            if landmark == '.DS_Store':\n",
    "                continue\n",
    "            landmark_path = os.path.join(category_path, landmark)\n",
    "            if landmark not in landmark_label_to_idx:\n",
    "                landmark_label_to_idx[landmark] = len(landmark_label_to_idx)\n",
    "\n",
    "            for image_name in os.listdir(landmark_path):\n",
    "                if image_name == '.DS_Store':\n",
    "                    continue\n",
    "                image_path = os.path.join(landmark_path, image_name)\n",
    "                try:\n",
    "                    image = load_img(image_path, target_size=target_size)\n",
    "                    image = img_to_array(image)\n",
    "\n",
    "                    images.append(image)\n",
    "                    category_labels.append(category_idx)\n",
    "                    landmark_labels.append(landmark_label_to_idx[landmark])\n",
    "                except:\n",
    "                    print(f\"Skipping image {image_path} due to UnidentifiedImageError\")\n",
    "            \n",
    "            landmark_idx += 1\n",
    "        \n",
    "        category_idx += 1\n",
    "\n",
    "    images = np.array(images)\n",
    "    category_labels = np.array(category_labels)\n",
    "    landmark_labels = np.array(landmark_labels)\n",
    "\n",
    "    return images, category_labels, landmark_labels, category_label_to_idx, landmark_label_to_idx"
   ]
  },
  {
   "cell_type": "code",
   "execution_count": 3,
   "metadata": {},
   "outputs": [
    {
     "name": "stdout",
     "output_type": "stream",
     "text": [
      "Skipping image Landmarks-v1_1/Neoclassical/Buckingham Palace/Buckingham Palace_19.jpg due to UnidentifiedImageError\n",
      "Skipping image Landmarks-v1_1/Neoclassical/Academy of Athens/Academy of Athens - 20.jpg due to UnidentifiedImageError\n",
      "Skipping image Landmarks-v1_1/Mughal/Bibi Ka Maqbara/Bibi Ka Maqbara - 14.jpg due to UnidentifiedImageError\n"
     ]
    }
   ],
   "source": [
    "data_base_path = 'Landmarks-v1_1'\n",
    "images, category_labels, landmark_labels, category_label_to_idx, landmark_label_to_idx = load_images_and_labels(data_base_path)"
   ]
  },
  {
   "cell_type": "code",
   "execution_count": 4,
   "metadata": {},
   "outputs": [
    {
     "data": {
      "text/plain": [
       "array([0, 0, 0, 0, 0, 0, 0, 0, 0, 0, 0, 0, 0, 0, 0, 0, 0, 0, 0, 0, 0, 0,\n",
       "       0, 0, 0, 0, 0, 0, 0, 0, 0, 0, 0, 0, 0, 0, 0, 0, 0, 0, 0, 0, 0, 0,\n",
       "       0, 0, 0, 0, 0, 0, 0, 0, 0, 0, 0, 0, 0, 0, 0, 0, 0, 0, 0, 0, 0, 0,\n",
       "       0, 0, 0, 0, 1, 1, 1, 1, 1, 1, 1, 1, 1, 1, 1, 1, 1, 1, 1, 1, 1, 1,\n",
       "       1, 1, 1, 1, 1, 1, 1, 1, 1, 1, 1, 1, 1, 1, 1, 1, 1, 1, 1, 1, 1, 1,\n",
       "       1, 1, 1, 1, 1, 1, 1, 1, 1, 1, 1, 1, 1, 1, 1, 1, 1, 1, 1, 1, 1, 1,\n",
       "       1, 1, 1, 1, 1, 1, 2, 2, 2, 2, 2, 2, 2, 2, 2, 2, 2, 2, 2, 2, 2, 2,\n",
       "       2, 2, 2, 2, 2, 2, 2, 2, 2, 2, 2, 2, 2, 2, 2, 2, 2, 2, 2, 2, 2, 2,\n",
       "       2, 2, 2, 2, 2, 2, 2, 2, 2, 2, 2, 2, 2, 2, 2, 2, 2, 2, 2, 2, 2, 2,\n",
       "       2, 2, 2, 2, 2, 2, 2, 2, 2, 2, 2, 3, 3, 3, 3, 3, 3, 3, 3, 3, 3, 3,\n",
       "       3, 3, 3, 3, 3, 3, 3, 3, 3, 3, 3, 3, 3, 3, 3, 3, 3, 3, 3, 3, 3, 3,\n",
       "       3, 3, 3, 3, 3, 3, 3, 3, 3, 3, 3, 3, 3, 3, 3, 3, 3, 3, 3, 3, 3, 3,\n",
       "       3, 3, 3, 3, 3, 3, 3, 3, 3, 3, 3, 3, 3, 3, 3, 4, 4, 4, 4, 4, 4, 4,\n",
       "       4, 4, 4, 4, 4, 4, 4, 4, 4, 4, 4, 4, 4, 4, 4, 4, 4, 4, 4, 4, 4, 4,\n",
       "       4, 4, 4, 4, 4, 4, 4, 4, 4, 4, 4, 4, 4, 4, 4, 4, 4, 4, 4, 4, 4, 4,\n",
       "       4, 4, 4, 4, 4, 4, 4, 4, 4, 4, 4, 4, 4, 4, 4, 4, 4, 5, 5, 5, 5, 5,\n",
       "       5, 5, 5, 5, 5, 5, 5, 5, 5, 5, 5, 5, 5, 5, 5, 5, 5, 5, 5, 5, 5, 5,\n",
       "       5, 5, 5, 5, 5, 5, 5, 5, 5, 5, 5, 5, 5, 5, 5, 5, 5, 5, 5, 5, 5, 5,\n",
       "       5, 5, 5, 5, 5, 5, 5, 5, 5, 5, 5, 5, 5, 5, 5, 5, 5, 5, 5, 5, 5])"
      ]
     },
     "execution_count": 4,
     "metadata": {},
     "output_type": "execute_result"
    }
   ],
   "source": [
    "category_labels"
   ]
  },
  {
   "cell_type": "code",
   "execution_count": 5,
   "metadata": {},
   "outputs": [
    {
     "data": {
      "text/plain": [
       "dict_keys(['TianningTemplePagoda', 'ThienMuPagoda', 'GiantWildGoosePagoda', 'ShwedagonPagoda', 'FogongTemplePagoda', 'Buckingham Palace', 'Concertgebouw', 'Panth‚on', 'Academy of Athens', 'Ripon Building', 'Pyramid of Giza', 'Pyramid of Djoser', 'Santa Cecilia Acatitlan Pyramid', 'El Castillo, Chichen Itza', 'Louvre Pyramid', 'Hallgr¡mskirkja', 'Chrysler Building', 'CCTV Headquarters', 'eiffel', 'Cathedral of Bras”lia', 'Tomb of I_timad-ud-Daulah', 'Taj Mahal', 'Tomb of Akbar', 'Jama Masjid', 'Bibi Ka Maqbara', 'St.VitusCathedral', 'MilanCathedral', 'ChartresCathedral', 'CologneCathedral', 'Notre-DameCathedral'])"
      ]
     },
     "execution_count": 5,
     "metadata": {},
     "output_type": "execute_result"
    }
   ],
   "source": [
    "landmark_label_to_idx.keys()"
   ]
  },
  {
   "cell_type": "code",
   "execution_count": 6,
   "metadata": {},
   "outputs": [
    {
     "data": {
      "text/plain": [
       "dict_keys(['Pagodas', 'Neoclassical', 'Pyramids', 'Modern', 'Mughal', 'Gothic'])"
      ]
     },
     "execution_count": 6,
     "metadata": {},
     "output_type": "execute_result"
    }
   ],
   "source": [
    "category_label_to_idx.keys()"
   ]
  },
  {
   "cell_type": "code",
   "execution_count": 7,
   "metadata": {},
   "outputs": [],
   "source": [
    "# Split the data into train and split\n",
    "\n",
    "from sklearn.model_selection import train_test_split\n",
    "\n",
    "train_images, val_images, train_category_labels, val_category_labels, train_landmark_labels, val_landmark_labels = train_test_split(\n",
    "    images, category_labels, landmark_labels, test_size=0.33, random_state=42)"
   ]
  },
  {
   "cell_type": "code",
   "execution_count": 8,
   "metadata": {},
   "outputs": [
    {
     "data": {
      "text/plain": [
       "array([2, 5, 2, 4, 1, 2, 2, 1, 2, 1, 5, 2, 3, 2, 2, 5, 4, 0, 2, 5, 2, 5,\n",
       "       3, 0, 1, 2, 2, 0, 4, 5, 2, 2, 0, 4, 1, 1, 3, 3, 2, 5, 3, 4, 4, 5,\n",
       "       1, 4, 2, 2, 3, 1, 0, 3, 1, 1, 2, 4, 1, 4, 0, 0, 0, 2, 1, 4, 2, 2,\n",
       "       0, 4, 4, 3, 3, 4, 5, 1, 2, 4, 1, 5, 4, 5, 3, 3, 4, 2, 3, 4, 3, 4,\n",
       "       1, 0, 0, 4, 2, 3, 1, 2, 4, 4, 4, 5, 1, 5, 4, 5, 4, 3, 5, 3, 2, 3,\n",
       "       1, 2, 2, 2, 5, 0, 3, 2, 1, 1, 3, 4, 4, 1, 5, 1, 4, 1, 4, 0, 5, 0,\n",
       "       1, 3, 2, 2, 0, 0, 0, 2, 2, 4, 4, 3, 1, 0, 3, 5, 5, 2, 0, 4, 2, 4,\n",
       "       3, 4, 0, 3, 5, 1, 3, 5, 3, 2, 1, 4, 3, 0, 0, 0, 3, 2, 5, 0, 4, 3,\n",
       "       3, 4, 2, 5, 2, 0, 1, 1, 0, 0, 4, 0, 2, 0, 5, 4, 3, 4, 5, 3, 2, 3,\n",
       "       4, 5, 3, 5, 5, 4, 3, 2, 2, 0, 3, 2, 4, 3, 1, 0, 0, 0, 1, 2, 0, 3,\n",
       "       1, 4, 0, 4, 3, 3, 0, 4, 1, 3, 2, 4, 5, 1, 4, 5, 4, 3, 0, 5, 0, 2,\n",
       "       2, 5, 2, 2, 0, 0, 4, 3, 3, 0, 4, 2, 3, 2, 5, 4, 4, 3, 4, 2, 1, 2,\n",
       "       5, 1, 5, 1, 4, 3, 1, 5, 0, 2, 1, 1, 3, 5, 1])"
      ]
     },
     "execution_count": 8,
     "metadata": {},
     "output_type": "execute_result"
    }
   ],
   "source": [
    "train_category_labels"
   ]
  },
  {
   "cell_type": "code",
   "execution_count": 9,
   "metadata": {},
   "outputs": [],
   "source": [
    "import tensorflow as tf\n",
    "\n",
    "num_categories = len(category_label_to_idx)\n",
    "num_landmarks = len(landmark_label_to_idx)\n",
    "\n",
    "train_category_labels = tf.keras.utils.to_categorical(train_category_labels, num_classes=num_categories)\n",
    "val_category_labels = tf.keras.utils.to_categorical(val_category_labels, num_classes=num_categories)\n",
    "\n",
    "train_landmark_labels = tf.keras.utils.to_categorical(train_landmark_labels, num_classes=num_landmarks)\n",
    "val_landmark_labels = tf.keras.utils.to_categorical(val_landmark_labels, num_classes=num_landmarks)"
   ]
  },
  {
   "cell_type": "code",
   "execution_count": 10,
   "metadata": {},
   "outputs": [],
   "source": [
    "# Fine tune the model\n",
    "from tensorflow.keras import layers, models, Model\n",
    "import keras_tuner as kt\n",
    "from tensorflow.keras.layers.experimental import preprocessing\n",
    "from tensorflow.keras.applications import EfficientNetB0\n",
    "from tensorflow.keras.callbacks import EarlyStopping\n",
    "from keras import backend as K\n",
    "from tensorflow import keras\n",
    "from tensorflow.keras.applications.efficientnet import preprocess_input\n",
    "\n",
    "K.clear_session()\n",
    "\n",
    "def build_model(hp):\n",
    "    base_model = EfficientNetB0(weights=\"imagenet\", include_top=False, input_shape=target_size)\n",
    "    \n",
    "    data_augmentation = keras.Sequential([\n",
    "        preprocessing.RandomFlip(\"horizontal\"),\n",
    "        preprocessing.RandomRotation(0.2),\n",
    "        preprocessing.RandomZoom(0.2),\n",
    "        preprocessing.RandomContrast(0.2)\n",
    "    ])\n",
    "\n",
    "    # Add the custom layers\n",
    "    inputs = layers.Input(shape=target_size)\n",
    "    x = data_augmentation(inputs)\n",
    "    x = preprocess_input(x)\n",
    "    x = base_model(x, training=False)\n",
    "    x = layers.GlobalAveragePooling2D()(x)\n",
    "    x = layers.Dense(hp.Int(\"units\", min_value=32, max_value=1024, step=32), activation=\"relu\")(x)\n",
    "    x = layers.Dropout(hp.Float(\"dropout\", 0, 0.5, step=0.1))(x)\n",
    "\n",
    "    # Add category output layer\n",
    "    category_output = layers.Dense(num_categories, activation=\"softmax\", name=\"category_output\")(x)\n",
    "\n",
    "    # Add landmark output layer\n",
    "    landmark_output = layers.Dense(num_landmarks, activation=\"softmax\", name=\"landmark_output\")(x)\n",
    "    \n",
    "    optimizer_type = hp.Choice(\"optimizer\", values=[\"adam\", \"sgd\", \"rmsprop\"])\n",
    "\n",
    "    if optimizer_type == \"adam\":\n",
    "        optimizer = tf.keras.optimizers.Adam(\n",
    "            learning_rate=hp.Float(\"adam_lr\", min_value=1e-5, max_value=1e-3, sampling=\"LOG\")\n",
    "        )\n",
    "    elif optimizer_type == \"sgd\":\n",
    "        optimizer = tf.keras.optimizers.SGD(\n",
    "            learning_rate=hp.Float(\"sgd_lr\", min_value=1e-5, max_value=1e-3, sampling=\"LOG\"),\n",
    "            momentum=hp.Float(\"sgd_momentum\", min_value=0.0, max_value=0.99)\n",
    "        )\n",
    "    else:  # optimizer_type == \"rmsprop\"\n",
    "        optimizer = tf.keras.optimizers.RMSprop(\n",
    "            learning_rate=hp.Float(\"rmsprop_lr\", min_value=1e-5, max_value=1e-3, sampling=\"LOG\")\n",
    "        )\n",
    "\n",
    "    # Create the model\n",
    "    model = Model(inputs=inputs, outputs=[category_output, landmark_output])\n",
    "\n",
    "    base_model.trainable = False\n",
    "\n",
    "    model.compile(optimizer=optimizer,\n",
    "                  loss=\"categorical_crossentropy\", metrics=[\"accuracy\"])\n",
    "\n",
    "    return model"
   ]
  },
  {
   "cell_type": "code",
   "execution_count": 11,
   "metadata": {},
   "outputs": [
    {
     "name": "stdout",
     "output_type": "stream",
     "text": [
      "\n",
      "Search: Running Trial #1\n",
      "\n",
      "Value             |Best Value So Far |Hyperparameter\n",
      "672               |672               |units\n",
      "0                 |0                 |dropout\n",
      "sgd               |sgd               |optimizer\n",
      "3.4974e-05        |3.4974e-05        |adam_lr\n",
      "\n",
      "Epoch 1/40\n",
      "WARNING:tensorflow:Using a while_loop for converting RngReadAndSkip\n",
      "WARNING:tensorflow:Using a while_loop for converting Bitcast\n",
      "WARNING:tensorflow:Using a while_loop for converting Bitcast\n",
      "WARNING:tensorflow:Using a while_loop for converting StatelessRandomUniformFullIntV2\n",
      "WARNING:tensorflow:Using a while_loop for converting StatelessRandomGetKeyCounter\n",
      "WARNING:tensorflow:Using a while_loop for converting StatelessRandomUniformV2\n"
     ]
    },
    {
     "name": "stderr",
     "output_type": "stream",
     "text": [
      "2023-04-26 21:21:53.028583: W tensorflow/core/platform/profile_utils/cpu_utils.cc:128] Failed to get CPU frequency: 0 Hz\n"
     ]
    },
    {
     "name": "stdout",
     "output_type": "stream",
     "text": [
      "WARNING:tensorflow:Using a while_loop for converting AdjustContrastv2\n",
      "WARNING:tensorflow:Using a while_loop for converting RngReadAndSkip\n",
      "WARNING:tensorflow:Using a while_loop for converting Bitcast\n",
      "WARNING:tensorflow:Using a while_loop for converting Bitcast\n",
      "WARNING:tensorflow:Using a while_loop for converting StatelessRandomUniformFullIntV2\n",
      "WARNING:tensorflow:Using a while_loop for converting StatelessRandomGetKeyCounter\n",
      "WARNING:tensorflow:Using a while_loop for converting StatelessRandomUniformV2\n",
      "WARNING:tensorflow:Using a while_loop for converting AdjustContrastv2\n",
      "6/9 [===================>..........] - ETA: 2s - loss: 5.3369 - category_output_loss: 1.8124 - landmark_output_loss: 3.5245 - category_output_accuracy: 0.1979 - landmark_output_accuracy: 0.0156 "
     ]
    }
   ],
   "source": [
    "from keras_tuner import Objective\n",
    "\n",
    "early_stopping = EarlyStopping(monitor=\"val_landmark_output_accuracy\", patience=5, restore_best_weights=True)\n",
    "\n",
    "random_search_tuner = kt.RandomSearch(\n",
    "    build_model, objective=Objective(\"val_landmark_output_accuracy\", direction=\"max\"),\n",
    "    max_trials=30, executions_per_trial=3,\n",
    "    overwrite=False, directory=\"group\",\n",
    "    project_name = \"group_project3\", seed=42\n",
    ")\n",
    "\n",
    "random_search_tuner.search(train_images, {\"category_output\": train_category_labels,\n",
    "                                          \"landmark_output\":train_landmark_labels},\n",
    "                           validation_data=(val_images, {\"category_output\": val_category_labels, \n",
    "                                                         \"landmark_output\": val_landmark_labels}),\n",
    "                           epochs=40,\n",
    "                           callbacks=[early_stopping])"
   ]
  },
  {
   "cell_type": "code",
   "execution_count": null,
   "metadata": {},
   "outputs": [],
   "source": [
    "# best_trial = random_search_tuner.oracle.get_best_trials(num_trials=1)[0]\n",
    "\n",
    "# best_trial.summary()"
   ]
  },
  {
   "cell_type": "code",
   "execution_count": null,
   "metadata": {},
   "outputs": [],
   "source": [
    "# Load the base model\n",
    "from tensorflow.keras.applications import EfficientNetB0\n",
    "import random\n",
    "from tensorflow import keras\n",
    "from tensorflow.keras import layers, models, Model\n",
    "from tensorflow.keras.layers.experimental import preprocessing\n",
    "from tensorflow.keras.applications.efficientnet import preprocess_input\n",
    "\n",
    "\n",
    "from keras import backend as K\n",
    "\n",
    "seed_value = 42\n",
    "# Set the seed for Python's random module\n",
    "random.seed(seed_value)\n",
    "\n",
    "# Set the seed for NumPy\n",
    "np.random.seed(seed_value)\n",
    "\n",
    "# Set the seed for TensorFlow\n",
    "tf.random.set_seed(seed_value)\n",
    "\n",
    "\n",
    "K.clear_session()\n",
    "base_model = EfficientNetB0(include_top=False, weights=\"imagenet\", input_shape=target_size)\n",
    "\n",
    "# base_model = VGG16(include_top=False, weights=\"imagenet\", input_shape=(224, 224, 3))\n",
    "base_model.trainable = False\n",
    "\n",
    "data_augmentation = keras.Sequential([\n",
    "        preprocessing.RandomFlip(\"horizontal\"),\n",
    "        preprocessing.RandomRotation(0.2),\n",
    "        preprocessing.RandomZoom(0.2),\n",
    "        preprocessing.RandomContrast(0.1)\n",
    "    ])\n",
    "\n",
    "# Add the custom layers\n",
    "inputs = layers.Input(shape=target_size)\n",
    "x = data_augmentation(inputs)\n",
    "x = preprocess_input(x)\n",
    "x = base_model(x, training=False)\n",
    "x = layers.GlobalAveragePooling2D()(x)\n",
    "x = layers.Dense(256, activation=\"relu\")(x)\n",
    "#x = layers.BatchNormalization()(x)\n",
    "x = layers.Dropout(0.5)(x)\n",
    "\n",
    "# Add category output layer\n",
    "category_output = layers.Dense(num_categories, activation=\"softmax\", name=\"category_output\")(x)\n",
    "\n",
    "# Add landmark output layer\n",
    "landmark_output = layers.Dense(num_landmarks, activation=\"softmax\", name=\"landmark_output\")(x)\n",
    "\n",
    "# Create the model\n",
    "model = Model(inputs=inputs, outputs=[category_output, landmark_output])"
   ]
  },
  {
   "cell_type": "code",
   "execution_count": null,
   "metadata": {},
   "outputs": [],
   "source": [
    "# Compile the model\n",
    "model.compile(optimizer=tf.keras.optimizers.Adam(learning_rate=0.000738),\n",
    "              loss={\"category_output\": \"categorical_crossentropy\",\n",
    "                    \"landmark_output\": \"categorical_crossentropy\"},\n",
    "              metrics={\"category_output\": \"accuracy\",\n",
    "                       \"landmark_output\": \"accuracy\"})"
   ]
  },
  {
   "cell_type": "code",
   "execution_count": null,
   "metadata": {},
   "outputs": [
    {
     "name": "stdout",
     "output_type": "stream",
     "text": [
      "Epoch 1/50\n",
      "WARNING:tensorflow:Using a while_loop for converting RngReadAndSkip\n"
     ]
    },
    {
     "name": "stderr",
     "output_type": "stream",
     "text": [
      "WARNING:tensorflow:Using a while_loop for converting RngReadAndSkip\n"
     ]
    },
    {
     "name": "stdout",
     "output_type": "stream",
     "text": [
      "WARNING:tensorflow:Using a while_loop for converting Bitcast\n"
     ]
    },
    {
     "name": "stderr",
     "output_type": "stream",
     "text": [
      "WARNING:tensorflow:Using a while_loop for converting Bitcast\n"
     ]
    },
    {
     "name": "stdout",
     "output_type": "stream",
     "text": [
      "WARNING:tensorflow:Using a while_loop for converting Bitcast\n"
     ]
    },
    {
     "name": "stderr",
     "output_type": "stream",
     "text": [
      "WARNING:tensorflow:Using a while_loop for converting Bitcast\n"
     ]
    },
    {
     "name": "stdout",
     "output_type": "stream",
     "text": [
      "WARNING:tensorflow:Using a while_loop for converting StatelessRandomUniformFullIntV2\n"
     ]
    },
    {
     "name": "stderr",
     "output_type": "stream",
     "text": [
      "WARNING:tensorflow:Using a while_loop for converting StatelessRandomUniformFullIntV2\n"
     ]
    },
    {
     "name": "stdout",
     "output_type": "stream",
     "text": [
      "WARNING:tensorflow:Using a while_loop for converting StatelessRandomGetKeyCounter\n"
     ]
    },
    {
     "name": "stderr",
     "output_type": "stream",
     "text": [
      "WARNING:tensorflow:Using a while_loop for converting StatelessRandomGetKeyCounter\n"
     ]
    },
    {
     "name": "stdout",
     "output_type": "stream",
     "text": [
      "WARNING:tensorflow:Using a while_loop for converting StatelessRandomUniformV2\n"
     ]
    },
    {
     "name": "stderr",
     "output_type": "stream",
     "text": [
      "WARNING:tensorflow:Using a while_loop for converting StatelessRandomUniformV2\n"
     ]
    },
    {
     "name": "stdout",
     "output_type": "stream",
     "text": [
      "WARNING:tensorflow:Using a while_loop for converting AdjustContrastv2\n"
     ]
    },
    {
     "name": "stderr",
     "output_type": "stream",
     "text": [
      "WARNING:tensorflow:Using a while_loop for converting AdjustContrastv2\n"
     ]
    },
    {
     "name": "stdout",
     "output_type": "stream",
     "text": [
      "WARNING:tensorflow:Using a while_loop for converting RngReadAndSkip\n"
     ]
    },
    {
     "name": "stderr",
     "output_type": "stream",
     "text": [
      "WARNING:tensorflow:Using a while_loop for converting RngReadAndSkip\n"
     ]
    },
    {
     "name": "stdout",
     "output_type": "stream",
     "text": [
      "WARNING:tensorflow:Using a while_loop for converting Bitcast\n"
     ]
    },
    {
     "name": "stderr",
     "output_type": "stream",
     "text": [
      "WARNING:tensorflow:Using a while_loop for converting Bitcast\n"
     ]
    },
    {
     "name": "stdout",
     "output_type": "stream",
     "text": [
      "WARNING:tensorflow:Using a while_loop for converting Bitcast\n"
     ]
    },
    {
     "name": "stderr",
     "output_type": "stream",
     "text": [
      "WARNING:tensorflow:Using a while_loop for converting Bitcast\n"
     ]
    },
    {
     "name": "stdout",
     "output_type": "stream",
     "text": [
      "WARNING:tensorflow:Using a while_loop for converting StatelessRandomUniformFullIntV2\n"
     ]
    },
    {
     "name": "stderr",
     "output_type": "stream",
     "text": [
      "WARNING:tensorflow:Using a while_loop for converting StatelessRandomUniformFullIntV2\n"
     ]
    },
    {
     "name": "stdout",
     "output_type": "stream",
     "text": [
      "WARNING:tensorflow:Using a while_loop for converting StatelessRandomGetKeyCounter\n"
     ]
    },
    {
     "name": "stderr",
     "output_type": "stream",
     "text": [
      "WARNING:tensorflow:Using a while_loop for converting StatelessRandomGetKeyCounter\n"
     ]
    },
    {
     "name": "stdout",
     "output_type": "stream",
     "text": [
      "WARNING:tensorflow:Using a while_loop for converting StatelessRandomUniformV2\n"
     ]
    },
    {
     "name": "stderr",
     "output_type": "stream",
     "text": [
      "WARNING:tensorflow:Using a while_loop for converting StatelessRandomUniformV2\n"
     ]
    },
    {
     "name": "stdout",
     "output_type": "stream",
     "text": [
      "WARNING:tensorflow:Using a while_loop for converting AdjustContrastv2\n"
     ]
    },
    {
     "name": "stderr",
     "output_type": "stream",
     "text": [
      "WARNING:tensorflow:Using a while_loop for converting AdjustContrastv2\n"
     ]
    },
    {
     "name": "stdout",
     "output_type": "stream",
     "text": [
      "9/9 [==============================] - 12s 1s/step - loss: 5.1208 - category_output_loss: 1.6853 - landmark_output_loss: 3.4354 - category_output_accuracy: 0.3154 - landmark_output_accuracy: 0.0538 - val_loss: 4.5389 - val_category_output_loss: 1.3514 - val_landmark_output_loss: 3.1875 - val_category_output_accuracy: 0.6304 - val_landmark_output_accuracy: 0.2029\n",
      "Epoch 2/50\n",
      "9/9 [==============================] - 8s 940ms/step - loss: 4.1548 - category_output_loss: 1.1619 - landmark_output_loss: 2.9929 - category_output_accuracy: 0.6738 - landmark_output_accuracy: 0.1900 - val_loss: 3.9083 - val_category_output_loss: 0.9602 - val_landmark_output_loss: 2.9481 - val_category_output_accuracy: 0.8623 - val_landmark_output_accuracy: 0.2826\n",
      "Epoch 3/50\n",
      "9/9 [==============================] - 8s 943ms/step - loss: 3.5203 - category_output_loss: 0.8552 - landmark_output_loss: 2.6650 - category_output_accuracy: 0.7849 - landmark_output_accuracy: 0.3082 - val_loss: 3.3247 - val_category_output_loss: 0.6962 - val_landmark_output_loss: 2.6285 - val_category_output_accuracy: 0.8913 - val_landmark_output_accuracy: 0.3551\n",
      "Epoch 4/50\n",
      "9/9 [==============================] - 8s 927ms/step - loss: 2.9422 - category_output_loss: 0.7026 - landmark_output_loss: 2.2396 - category_output_accuracy: 0.7993 - landmark_output_accuracy: 0.4767 - val_loss: 2.7982 - val_category_output_loss: 0.4956 - val_landmark_output_loss: 2.3026 - val_category_output_accuracy: 0.9130 - val_landmark_output_accuracy: 0.5290\n",
      "Epoch 5/50\n",
      "9/9 [==============================] - 8s 924ms/step - loss: 2.3864 - category_output_loss: 0.5481 - landmark_output_loss: 1.8383 - category_output_accuracy: 0.8566 - landmark_output_accuracy: 0.5556 - val_loss: 2.4027 - val_category_output_loss: 0.3864 - val_landmark_output_loss: 2.0163 - val_category_output_accuracy: 0.9275 - val_landmark_output_accuracy: 0.5870\n",
      "Epoch 6/50\n",
      "9/9 [==============================] - 8s 921ms/step - loss: 2.1063 - category_output_loss: 0.4713 - landmark_output_loss: 1.6350 - category_output_accuracy: 0.8495 - landmark_output_accuracy: 0.5914 - val_loss: 2.0728 - val_category_output_loss: 0.3235 - val_landmark_output_loss: 1.7493 - val_category_output_accuracy: 0.9420 - val_landmark_output_accuracy: 0.6594\n",
      "Epoch 7/50\n",
      "9/9 [==============================] - 8s 946ms/step - loss: 1.7546 - category_output_loss: 0.3814 - landmark_output_loss: 1.3732 - category_output_accuracy: 0.8961 - landmark_output_accuracy: 0.6810 - val_loss: 1.8362 - val_category_output_loss: 0.2819 - val_landmark_output_loss: 1.5542 - val_category_output_accuracy: 0.9348 - val_landmark_output_accuracy: 0.6667\n",
      "Epoch 8/50\n",
      "9/9 [==============================] - 8s 940ms/step - loss: 1.5887 - category_output_loss: 0.3374 - landmark_output_loss: 1.2513 - category_output_accuracy: 0.8996 - landmark_output_accuracy: 0.6631 - val_loss: 1.6198 - val_category_output_loss: 0.2451 - val_landmark_output_loss: 1.3747 - val_category_output_accuracy: 0.9638 - val_landmark_output_accuracy: 0.7174\n",
      "Epoch 9/50\n",
      "9/9 [==============================] - 8s 914ms/step - loss: 1.3630 - category_output_loss: 0.3056 - landmark_output_loss: 1.0574 - category_output_accuracy: 0.9355 - landmark_output_accuracy: 0.7419 - val_loss: 1.5144 - val_category_output_loss: 0.2567 - val_landmark_output_loss: 1.2576 - val_category_output_accuracy: 0.9493 - val_landmark_output_accuracy: 0.7464\n",
      "Epoch 10/50\n",
      "9/9 [==============================] - 8s 923ms/step - loss: 1.1369 - category_output_loss: 0.2854 - landmark_output_loss: 0.8515 - category_output_accuracy: 0.9247 - landmark_output_accuracy: 0.8244 - val_loss: 1.3450 - val_category_output_loss: 0.2099 - val_landmark_output_loss: 1.1352 - val_category_output_accuracy: 0.9420 - val_landmark_output_accuracy: 0.7971\n",
      "Epoch 11/50\n",
      "9/9 [==============================] - 8s 951ms/step - loss: 1.0624 - category_output_loss: 0.2562 - landmark_output_loss: 0.8062 - category_output_accuracy: 0.9176 - landmark_output_accuracy: 0.8136 - val_loss: 1.2531 - val_category_output_loss: 0.1965 - val_landmark_output_loss: 1.0566 - val_category_output_accuracy: 0.9493 - val_landmark_output_accuracy: 0.7754\n",
      "Epoch 12/50\n",
      "9/9 [==============================] - 8s 933ms/step - loss: 0.8495 - category_output_loss: 0.1806 - landmark_output_loss: 0.6689 - category_output_accuracy: 0.9570 - landmark_output_accuracy: 0.8602 - val_loss: 1.1799 - val_category_output_loss: 0.2049 - val_landmark_output_loss: 0.9750 - val_category_output_accuracy: 0.9493 - val_landmark_output_accuracy: 0.7826\n",
      "Epoch 13/50\n",
      "9/9 [==============================] - 8s 948ms/step - loss: 0.7923 - category_output_loss: 0.1913 - landmark_output_loss: 0.6010 - category_output_accuracy: 0.9462 - landmark_output_accuracy: 0.8817 - val_loss: 1.0404 - val_category_output_loss: 0.1646 - val_landmark_output_loss: 0.8758 - val_category_output_accuracy: 0.9493 - val_landmark_output_accuracy: 0.8188\n",
      "Epoch 14/50\n",
      "9/9 [==============================] - 8s 937ms/step - loss: 0.6898 - category_output_loss: 0.1755 - landmark_output_loss: 0.5144 - category_output_accuracy: 0.9713 - landmark_output_accuracy: 0.8710 - val_loss: 0.9796 - val_category_output_loss: 0.1601 - val_landmark_output_loss: 0.8195 - val_category_output_accuracy: 0.9565 - val_landmark_output_accuracy: 0.8043\n",
      "Epoch 15/50\n",
      "9/9 [==============================] - 8s 912ms/step - loss: 0.6774 - category_output_loss: 0.1572 - landmark_output_loss: 0.5202 - category_output_accuracy: 0.9642 - landmark_output_accuracy: 0.8746 - val_loss: 0.9345 - val_category_output_loss: 0.1552 - val_landmark_output_loss: 0.7793 - val_category_output_accuracy: 0.9565 - val_landmark_output_accuracy: 0.8188\n",
      "Epoch 16/50\n",
      "9/9 [==============================] - 8s 917ms/step - loss: 0.5782 - category_output_loss: 0.1671 - landmark_output_loss: 0.4111 - category_output_accuracy: 0.9427 - landmark_output_accuracy: 0.9283 - val_loss: 0.9152 - val_category_output_loss: 0.1636 - val_landmark_output_loss: 0.7516 - val_category_output_accuracy: 0.9420 - val_landmark_output_accuracy: 0.8188\n",
      "Epoch 17/50\n",
      "9/9 [==============================] - 8s 941ms/step - loss: 0.5559 - category_output_loss: 0.1549 - landmark_output_loss: 0.4010 - category_output_accuracy: 0.9606 - landmark_output_accuracy: 0.9391 - val_loss: 0.8331 - val_category_output_loss: 0.1339 - val_landmark_output_loss: 0.6992 - val_category_output_accuracy: 0.9638 - val_landmark_output_accuracy: 0.8478\n",
      "Epoch 18/50\n",
      "9/9 [==============================] - 8s 933ms/step - loss: 0.4456 - category_output_loss: 0.1211 - landmark_output_loss: 0.3246 - category_output_accuracy: 0.9642 - landmark_output_accuracy: 0.9319 - val_loss: 0.8465 - val_category_output_loss: 0.1454 - val_landmark_output_loss: 0.7011 - val_category_output_accuracy: 0.9565 - val_landmark_output_accuracy: 0.8261\n",
      "Epoch 19/50\n",
      "9/9 [==============================] - 8s 961ms/step - loss: 0.4775 - category_output_loss: 0.1013 - landmark_output_loss: 0.3762 - category_output_accuracy: 0.9785 - landmark_output_accuracy: 0.9319 - val_loss: 0.8228 - val_category_output_loss: 0.1402 - val_landmark_output_loss: 0.6826 - val_category_output_accuracy: 0.9565 - val_landmark_output_accuracy: 0.8333\n",
      "Epoch 20/50\n",
      "9/9 [==============================] - 8s 947ms/step - loss: 0.4318 - category_output_loss: 0.1123 - landmark_output_loss: 0.3194 - category_output_accuracy: 0.9713 - landmark_output_accuracy: 0.9427 - val_loss: 0.7418 - val_category_output_loss: 0.1228 - val_landmark_output_loss: 0.6191 - val_category_output_accuracy: 0.9638 - val_landmark_output_accuracy: 0.8623\n",
      "Epoch 21/50\n",
      "9/9 [==============================] - 8s 960ms/step - loss: 0.4338 - category_output_loss: 0.1443 - landmark_output_loss: 0.2894 - category_output_accuracy: 0.9570 - landmark_output_accuracy: 0.9498 - val_loss: 0.7414 - val_category_output_loss: 0.1342 - val_landmark_output_loss: 0.6071 - val_category_output_accuracy: 0.9565 - val_landmark_output_accuracy: 0.8696\n",
      "Epoch 22/50\n",
      "9/9 [==============================] - 8s 936ms/step - loss: 0.4296 - category_output_loss: 0.1247 - landmark_output_loss: 0.3048 - category_output_accuracy: 0.9642 - landmark_output_accuracy: 0.9319 - val_loss: 0.7128 - val_category_output_loss: 0.1256 - val_landmark_output_loss: 0.5872 - val_category_output_accuracy: 0.9565 - val_landmark_output_accuracy: 0.8768\n",
      "Epoch 23/50\n",
      "9/9 [==============================] - 8s 929ms/step - loss: 0.3902 - category_output_loss: 0.0984 - landmark_output_loss: 0.2918 - category_output_accuracy: 0.9821 - landmark_output_accuracy: 0.9391 - val_loss: 0.7104 - val_category_output_loss: 0.1232 - val_landmark_output_loss: 0.5872 - val_category_output_accuracy: 0.9638 - val_landmark_output_accuracy: 0.8696\n",
      "Epoch 24/50\n",
      "9/9 [==============================] - 8s 939ms/step - loss: 0.3598 - category_output_loss: 0.0996 - landmark_output_loss: 0.2602 - category_output_accuracy: 0.9821 - landmark_output_accuracy: 0.9534 - val_loss: 0.7112 - val_category_output_loss: 0.1312 - val_landmark_output_loss: 0.5800 - val_category_output_accuracy: 0.9565 - val_landmark_output_accuracy: 0.8551\n",
      "Epoch 25/50\n",
      "9/9 [==============================] - 8s 926ms/step - loss: 0.3868 - category_output_loss: 0.1060 - landmark_output_loss: 0.2808 - category_output_accuracy: 0.9677 - landmark_output_accuracy: 0.9355 - val_loss: 0.6989 - val_category_output_loss: 0.1369 - val_landmark_output_loss: 0.5620 - val_category_output_accuracy: 0.9493 - val_landmark_output_accuracy: 0.8623\n",
      "Epoch 26/50\n",
      "9/9 [==============================] - 8s 926ms/step - loss: 0.3571 - category_output_loss: 0.1008 - landmark_output_loss: 0.2563 - category_output_accuracy: 0.9785 - landmark_output_accuracy: 0.9391 - val_loss: 0.6814 - val_category_output_loss: 0.1298 - val_landmark_output_loss: 0.5516 - val_category_output_accuracy: 0.9565 - val_landmark_output_accuracy: 0.8623\n",
      "Epoch 27/50\n",
      "9/9 [==============================] - 8s 950ms/step - loss: 0.3003 - category_output_loss: 0.0854 - landmark_output_loss: 0.2150 - category_output_accuracy: 0.9892 - landmark_output_accuracy: 0.9713 - val_loss: 0.6783 - val_category_output_loss: 0.1290 - val_landmark_output_loss: 0.5493 - val_category_output_accuracy: 0.9565 - val_landmark_output_accuracy: 0.8623\n"
     ]
    }
   ],
   "source": [
    "from tensorflow.keras.callbacks import EarlyStopping\n",
    "\n",
    "early_stopping = EarlyStopping(monitor=\"val_landmark_output_accuracy\", patience=5, restore_best_weights=True)\n",
    "\n",
    "history = model.fit(train_images,\n",
    "                    {\"category_output\": train_category_labels,\n",
    "                     \"landmark_output\": train_landmark_labels},\n",
    "                    validation_data=(val_images,\n",
    "                                     {\"category_output\": val_category_labels,\n",
    "                                      \"landmark_output\": val_landmark_labels}),\n",
    "                    epochs=50,\n",
    "                    callbacks = [early_stopping])"
   ]
  },
  {
   "cell_type": "code",
   "execution_count": null,
   "metadata": {},
   "outputs": [
    {
     "data": {
      "image/png": "[encoded data removed]",
      "text/plain": [
       "<Figure size 640x480 with 1 Axes>"
      ]
     },
     "metadata": {},
     "output_type": "display_data"
    }
   ],
   "source": [
    "import matplotlib.pyplot as plt\n",
    "\n",
    "# Get the accuracy data\n",
    "category_val_acc = history.history['val_category_output_accuracy']\n",
    "landmark_val_acc = history.history['val_landmark_output_accuracy']\n",
    "\n",
    "# Get the number of epochs\n",
    "epochs = range(1, len(category_val_acc) + 1)\n",
    "\n",
    "# Plot the accuracy data\n",
    "plt.plot(epochs, category_val_acc, 'b', label='Category validation accuracy')\n",
    "plt.plot(epochs, landmark_val_acc, 'r', label='Landmark validation accuracy')\n",
    "plt.title('Validation accuracy for category and landmark classification')\n",
    "plt.xlabel('Epochs')\n",
    "plt.ylabel('Accuracy')\n",
    "plt.legend()\n",
    "\n",
    "plt.show()"
   ]
  },
  {
   "cell_type": "code",
   "execution_count": null,
   "metadata": {},
   "outputs": [
    {
     "data": {
      "image/png": "[encoded data removed]",
      "text/plain": [
       "<Figure size 1200x400 with 2 Axes>"
      ]
     },
     "metadata": {},
     "output_type": "display_data"
    },
    {
     "data": {
      "image/png": "[encoded data removed]",
      "text/plain": [
       "<Figure size 1200x400 with 2 Axes>"
      ]
     },
     "metadata": {},
     "output_type": "display_data"
    }
   ],
   "source": [
    "import matplotlib.pyplot as plt\n",
    "\n",
    "def plot_metrics(history, output_name):\n",
    "    # Get accuracy and loss data\n",
    "    acc = history.history[f'{output_name}_accuracy']\n",
    "    val_acc = history.history[f'val_{output_name}_accuracy']\n",
    "    loss = history.history[f'{output_name}_loss']\n",
    "    val_loss = history.history[f'val_{output_name}_loss']\n",
    "\n",
    "    # Get the number of epochs\n",
    "    epochs = range(1, len(acc) + 1)\n",
    "\n",
    "    # Plot accuracy\n",
    "    plt.figure(figsize=(12, 4))\n",
    "    plt.subplot(1, 2, 1)\n",
    "    plt.plot(epochs, acc, 'b', label='Training accuracy')\n",
    "    plt.plot(epochs, val_acc, 'r', label='Validation accuracy')\n",
    "    plt.title(f'{output_name.capitalize()} accuracy')\n",
    "    plt.xlabel('Epochs')\n",
    "    plt.ylabel('Accuracy')\n",
    "    plt.legend()\n",
    "\n",
    "    # Plot loss\n",
    "    plt.subplot(1, 2, 2)\n",
    "    plt.plot(epochs, loss, 'b', label='Training loss')\n",
    "    plt.plot(epochs, val_loss, 'r', label='Validation loss')\n",
    "    plt.title(f'{output_name.capitalize()} loss')\n",
    "    plt.xlabel('Epochs')\n",
    "    plt.ylabel('Loss')\n",
    "    plt.legend()\n",
    "\n",
    "    plt.show()\n",
    "\n",
    "# Plot metrics for category output\n",
    "plot_metrics(history, 'category_output')\n",
    "\n",
    "# Plot metrics for landmark output\n",
    "plot_metrics(history, 'landmark_output')\n"
   ]
  },
  {
   "cell_type": "markdown",
   "metadata": {},
   "source": [
    "1. fine tuner\n",
    "2. visualization\n",
    "3.  "
   ]
  },
  {
   "cell_type": "code",
   "execution_count": null,
   "metadata": {},
   "outputs": [],
   "source": [
    "model.save(\"my_model_256.h5\")"
   ]
  },
  {
   "cell_type": "code",
   "execution_count": null,
   "metadata": {},
   "outputs": [],
   "source": [
    "model.save('my_model.h5')"
   ]
  },
  {
   "cell_type": "code",
   "execution_count": null,
   "metadata": {},
   "outputs": [
    {
     "name": "stdout",
     "output_type": "stream",
     "text": [
      "WARNING:tensorflow:Using a while_loop for converting RngReadAndSkip\n"
     ]
    },
    {
     "name": "stderr",
     "output_type": "stream",
     "text": [
      "WARNING:tensorflow:Using a while_loop for converting RngReadAndSkip\n"
     ]
    },
    {
     "name": "stdout",
     "output_type": "stream",
     "text": [
      "WARNING:tensorflow:Using a while_loop for converting Bitcast\n"
     ]
    },
    {
     "name": "stderr",
     "output_type": "stream",
     "text": [
      "WARNING:tensorflow:Using a while_loop for converting Bitcast\n"
     ]
    },
    {
     "name": "stdout",
     "output_type": "stream",
     "text": [
      "WARNING:tensorflow:Using a while_loop for converting Bitcast\n"
     ]
    },
    {
     "name": "stderr",
     "output_type": "stream",
     "text": [
      "WARNING:tensorflow:Using a while_loop for converting Bitcast\n"
     ]
    },
    {
     "name": "stdout",
     "output_type": "stream",
     "text": [
      "WARNING:tensorflow:Using a while_loop for converting StatelessRandomUniformFullIntV2\n"
     ]
    },
    {
     "name": "stderr",
     "output_type": "stream",
     "text": [
      "WARNING:tensorflow:Using a while_loop for converting StatelessRandomUniformFullIntV2\n"
     ]
    },
    {
     "name": "stdout",
     "output_type": "stream",
     "text": [
      "WARNING:tensorflow:Using a while_loop for converting StatelessRandomGetKeyCounter\n"
     ]
    },
    {
     "name": "stderr",
     "output_type": "stream",
     "text": [
      "WARNING:tensorflow:Using a while_loop for converting StatelessRandomGetKeyCounter\n"
     ]
    },
    {
     "name": "stdout",
     "output_type": "stream",
     "text": [
      "WARNING:tensorflow:Using a while_loop for converting StatelessRandomUniformV2\n"
     ]
    },
    {
     "name": "stderr",
     "output_type": "stream",
     "text": [
      "WARNING:tensorflow:Using a while_loop for converting StatelessRandomUniformV2\n"
     ]
    },
    {
     "name": "stdout",
     "output_type": "stream",
     "text": [
      "WARNING:tensorflow:Using a while_loop for converting AdjustContrastv2\n"
     ]
    },
    {
     "name": "stderr",
     "output_type": "stream",
     "text": [
      "WARNING:tensorflow:Using a while_loop for converting AdjustContrastv2\n"
     ]
    },
    {
     "name": "stdout",
     "output_type": "stream",
     "text": [
      "WARNING:tensorflow:Using a while_loop for converting RngReadAndSkip\n"
     ]
    },
    {
     "name": "stderr",
     "output_type": "stream",
     "text": [
      "WARNING:tensorflow:Using a while_loop for converting RngReadAndSkip\n"
     ]
    },
    {
     "name": "stdout",
     "output_type": "stream",
     "text": [
      "WARNING:tensorflow:Using a while_loop for converting Bitcast\n"
     ]
    },
    {
     "name": "stderr",
     "output_type": "stream",
     "text": [
      "WARNING:tensorflow:Using a while_loop for converting Bitcast\n"
     ]
    },
    {
     "name": "stdout",
     "output_type": "stream",
     "text": [
      "WARNING:tensorflow:Using a while_loop for converting Bitcast\n"
     ]
    },
    {
     "name": "stderr",
     "output_type": "stream",
     "text": [
      "WARNING:tensorflow:Using a while_loop for converting Bitcast\n"
     ]
    },
    {
     "name": "stdout",
     "output_type": "stream",
     "text": [
      "WARNING:tensorflow:Using a while_loop for converting StatelessRandomUniformFullIntV2\n"
     ]
    },
    {
     "name": "stderr",
     "output_type": "stream",
     "text": [
      "WARNING:tensorflow:Using a while_loop for converting StatelessRandomUniformFullIntV2\n"
     ]
    },
    {
     "name": "stdout",
     "output_type": "stream",
     "text": [
      "WARNING:tensorflow:Using a while_loop for converting StatelessRandomGetKeyCounter\n"
     ]
    },
    {
     "name": "stderr",
     "output_type": "stream",
     "text": [
      "WARNING:tensorflow:Using a while_loop for converting StatelessRandomGetKeyCounter\n"
     ]
    },
    {
     "name": "stdout",
     "output_type": "stream",
     "text": [
      "WARNING:tensorflow:Using a while_loop for converting StatelessRandomUniformV2\n"
     ]
    },
    {
     "name": "stderr",
     "output_type": "stream",
     "text": [
      "WARNING:tensorflow:Using a while_loop for converting StatelessRandomUniformV2\n"
     ]
    },
    {
     "name": "stdout",
     "output_type": "stream",
     "text": [
      "WARNING:tensorflow:Using a while_loop for converting AdjustContrastv2\n"
     ]
    },
    {
     "name": "stderr",
     "output_type": "stream",
     "text": [
      "WARNING:tensorflow:Using a while_loop for converting AdjustContrastv2\n"
     ]
    },
    {
     "name": "stdout",
     "output_type": "stream",
     "text": [
      "WARNING:tensorflow:Using a while_loop for converting RngReadAndSkip\n"
     ]
    },
    {
     "name": "stderr",
     "output_type": "stream",
     "text": [
      "WARNING:tensorflow:Using a while_loop for converting RngReadAndSkip\n"
     ]
    },
    {
     "name": "stdout",
     "output_type": "stream",
     "text": [
      "WARNING:tensorflow:Using a while_loop for converting Bitcast\n"
     ]
    },
    {
     "name": "stderr",
     "output_type": "stream",
     "text": [
      "WARNING:tensorflow:Using a while_loop for converting Bitcast\n"
     ]
    },
    {
     "name": "stdout",
     "output_type": "stream",
     "text": [
      "WARNING:tensorflow:Using a while_loop for converting Bitcast\n"
     ]
    },
    {
     "name": "stderr",
     "output_type": "stream",
     "text": [
      "WARNING:tensorflow:Using a while_loop for converting Bitcast\n"
     ]
    },
    {
     "name": "stdout",
     "output_type": "stream",
     "text": [
      "WARNING:tensorflow:Using a while_loop for converting StatelessRandomUniformFullIntV2\n"
     ]
    },
    {
     "name": "stderr",
     "output_type": "stream",
     "text": [
      "WARNING:tensorflow:Using a while_loop for converting StatelessRandomUniformFullIntV2\n"
     ]
    },
    {
     "name": "stdout",
     "output_type": "stream",
     "text": [
      "WARNING:tensorflow:Using a while_loop for converting StatelessRandomGetKeyCounter\n"
     ]
    },
    {
     "name": "stderr",
     "output_type": "stream",
     "text": [
      "WARNING:tensorflow:Using a while_loop for converting StatelessRandomGetKeyCounter\n"
     ]
    },
    {
     "name": "stdout",
     "output_type": "stream",
     "text": [
      "WARNING:tensorflow:Using a while_loop for converting StatelessRandomUniformV2\n"
     ]
    },
    {
     "name": "stderr",
     "output_type": "stream",
     "text": [
      "WARNING:tensorflow:Using a while_loop for converting StatelessRandomUniformV2\n"
     ]
    },
    {
     "name": "stdout",
     "output_type": "stream",
     "text": [
      "WARNING:tensorflow:Using a while_loop for converting AdjustContrastv2\n"
     ]
    },
    {
     "name": "stderr",
     "output_type": "stream",
     "text": [
      "WARNING:tensorflow:Using a while_loop for converting AdjustContrastv2\n"
     ]
    },
    {
     "name": "stdout",
     "output_type": "stream",
     "text": [
      "WARNING:tensorflow:Using a while_loop for converting RngReadAndSkip\n"
     ]
    },
    {
     "name": "stderr",
     "output_type": "stream",
     "text": [
      "WARNING:tensorflow:Using a while_loop for converting RngReadAndSkip\n"
     ]
    },
    {
     "name": "stdout",
     "output_type": "stream",
     "text": [
      "WARNING:tensorflow:Using a while_loop for converting Bitcast\n"
     ]
    },
    {
     "name": "stderr",
     "output_type": "stream",
     "text": [
      "WARNING:tensorflow:Using a while_loop for converting Bitcast\n"
     ]
    },
    {
     "name": "stdout",
     "output_type": "stream",
     "text": [
      "WARNING:tensorflow:Using a while_loop for converting Bitcast\n"
     ]
    },
    {
     "name": "stderr",
     "output_type": "stream",
     "text": [
      "WARNING:tensorflow:Using a while_loop for converting Bitcast\n"
     ]
    },
    {
     "name": "stdout",
     "output_type": "stream",
     "text": [
      "WARNING:tensorflow:Using a while_loop for converting StatelessRandomUniformFullIntV2\n"
     ]
    },
    {
     "name": "stderr",
     "output_type": "stream",
     "text": [
      "WARNING:tensorflow:Using a while_loop for converting StatelessRandomUniformFullIntV2\n"
     ]
    },
    {
     "name": "stdout",
     "output_type": "stream",
     "text": [
      "WARNING:tensorflow:Using a while_loop for converting StatelessRandomGetKeyCounter\n"
     ]
    },
    {
     "name": "stderr",
     "output_type": "stream",
     "text": [
      "WARNING:tensorflow:Using a while_loop for converting StatelessRandomGetKeyCounter\n"
     ]
    },
    {
     "name": "stdout",
     "output_type": "stream",
     "text": [
      "WARNING:tensorflow:Using a while_loop for converting StatelessRandomUniformV2\n"
     ]
    },
    {
     "name": "stderr",
     "output_type": "stream",
     "text": [
      "WARNING:tensorflow:Using a while_loop for converting StatelessRandomUniformV2\n"
     ]
    },
    {
     "name": "stdout",
     "output_type": "stream",
     "text": [
      "WARNING:tensorflow:Using a while_loop for converting AdjustContrastv2\n"
     ]
    },
    {
     "name": "stderr",
     "output_type": "stream",
     "text": [
      "WARNING:tensorflow:Using a while_loop for converting AdjustContrastv2\n",
      "WARNING:absl:Found untraced functions such as _jit_compiled_convolution_op, _jit_compiled_convolution_op, _jit_compiled_convolution_op, _jit_compiled_convolution_op, _jit_compiled_convolution_op while saving (showing 5 of 81). These functions will not be directly callable after loading.\n"
     ]
    },
    {
     "name": "stdout",
     "output_type": "stream",
     "text": [
      "INFO:tensorflow:Assets written to: my_saved_model/assets\n"
     ]
    },
    {
     "name": "stderr",
     "output_type": "stream",
     "text": [
      "INFO:tensorflow:Assets written to: my_saved_model/assets\n"
     ]
    }
   ],
   "source": [
    "model.save(\"my_saved_model\")"
   ]
  },
  {
   "cell_type": "code",
   "execution_count": null,
   "metadata": {},
   "outputs": [],
   "source": [
    "from tensorflow.keras.models import load_model\n",
    "\n",
    "model_path = \"/Users/lizhiqian/Desktop/USC/DSCI 552/Yao/Group Project/my_model.h5\"\n",
    "model = load_model(model_path)"
   ]
  },
  {
   "cell_type": "code",
   "execution_count": null,
   "metadata": {},
   "outputs": [],
   "source": [
    "# # For Vocareum\n",
    "# from tensorflow.keras.models import load_model\n",
    "# import os\n",
    "# import pandas as pd\n",
    "# from tensorflow.keras.preprocessing import image\n",
    "# from tensorflow.keras.models import load_model\n",
    "# from tensorflow.keras.applications.efficientnet import preprocess_input\n",
    "# from tensorflow.keras.applications import EfficientNetB0\n",
    "\n",
    "# def model_prediction(test_dir):\n",
    "#     return test_dir\n",
    "#     # categories\n",
    "#     categories = ['Pagodas','Pyramids','Modern','Gothic','Mughal','Neoclassical']\n",
    "\n",
    "#     # landmarks\n",
    "#     landmarks = [\n",
    "#         'TianningTemplePagoda','ThienMuPagoda','GiantWildGoosePagoda','ShwedagonPagoda',\n",
    "#         'FogongTemplePagoda','Pyramid of Giza','Pyramid of Djoser','Santa Cecilia Acatitlan Pyramid',\n",
    "#         'El Castillo, Chichen Itza','Louvre Pyramid','Chrysler Building','Cathedral of Brasília',\n",
    "#         'CCTV Headquarters','Hallgrímskirkja','eiffel','St.VitusCathedral',\n",
    "#         'MilanCathedral','ChartresCathedral','CologneCathedral','Notre-DameCathedral',\n",
    "#         'Taj Mahal','Tomb of Akbar','Jama Masjid','Tomb of I_timad-ud-Daulah',\n",
    "#         'Bibi Ka Maqbara','Buckingham Palace','Concertgebouw',\n",
    "#         'Academy of Athens','Panthéon','Ripon Building','other']\n",
    "#     results = []\n",
    "#     random.seed(10)\n",
    "    \n",
    "#     # Load the trained model with saved weight from local \n",
    "#     current_path = os.getcwd()\n",
    "#     print(\"Current working directory:\", current_path)\n",
    "#     model_path = \"/mnt/vocwork4/ddd_v1_w_8IBr_961141/asn1748245_11/asn1748246_1/work/my_model.h5\"\n",
    "#     model = load_model(model_path)\n",
    "#     print(type(model))\n",
    "    \n",
    "#     categories = os.listdir(image_directory)\n",
    "    \n",
    "#     for category in categories:\n",
    "#         # get the category path\n",
    "#         category_path = os.path.join(test_dir, category)\n",
    "        \n",
    "#         landmarks = os.listdir(category_path)\n",
    "#         for landmark in landmarks:\n",
    "#             # get the landmark path\n",
    "#             landmark_path = os.path.join(category_path, landmark)\n",
    "#             image_files = os.listdir(landmark_path)\n",
    "            \n",
    "#             for img_file in image_files:\n",
    "#                 img_path = os.path.join(landmark_path, img_file)\n",
    "                \n",
    "#                 # Load the image and preprocess it\n",
    "#                 img = image.load_img(img_path, target_size=(224, 224))\n",
    "#                 img_array = image.img_to_array(img)\n",
    "#                 img_array = preprocess_input(img_array)  # Use EfficientNet's preprocess_input function\n",
    "#                 img_array = tf.expand_dims(img_array, axis=0)\n",
    "                \n",
    "#                 # Make the prediction\n",
    "#                 predictions = model.predict(img_array)\n",
    "#                 category_pred, landmark_pred = predictions\n",
    "\n",
    "#                 # Get the confidence\n",
    "#                 category_confidence = max(category_pred) * 100\n",
    "#                 landmark_confidence = max(landmark_pred) * 100\n",
    "\n",
    "#                 category_index = category_pred.argmax()\n",
    "#                 landmark_index = landmark_pred.argmax()\n",
    "\n",
    "#                 results.append({\n",
    "#                     'image': img_file,\n",
    "#                     'category': categories[category_index],\n",
    "#                     'category_confidence': category_confidence,\n",
    "#                     'landmark': landmarks[landmark_index],\n",
    "#                     'landmark_confidence': landmark_confidence,\n",
    "#                 })\n",
    "    \n",
    "# #     prediction = pd.DataFrame(\n",
    "# #         results, \n",
    "# #         columns = ['image', 'category', 'category_confidence', 'landmark', 'landmark_confidence'])\n",
    "# #     return prediction #data frame\n",
    "#     return pd.DataFrame(results)"
   ]
  },
  {
   "cell_type": "code",
   "execution_count": null,
   "metadata": {},
   "outputs": [
    {
     "name": "stdout",
     "output_type": "stream",
     "text": [
      "5/5 [==============================] - 2s 293ms/step\n"
     ]
    }
   ],
   "source": [
    "# Predict on the Validation set\n",
    "from sklearn.metrics import f1_score\n",
    "\n",
    "def preprocess_and_predict(img_path, model):\n",
    "    img = image.load_img(img_path, target_size=(224, 224))\n",
    "    img_array = image.img_to_array(img)\n",
    "    img_array = preprocess_input(img_array)\n",
    "    img_array = np.expand_dims(img_array, axis=0)\n",
    "\n",
    "    predictions = model.predict(img_array)\n",
    "    return predictions\n",
    "\n",
    "# for img in val_images:\n",
    "#     category_val_pred, landmark_val_pred = model.predict(img)\n",
    "#     category_val_preds.append(category_val_pred.argmax())\n",
    "#     landmark_val_preds.append(landmark_val_preds)\n",
    "\n",
    "category_val_pred, landmark_val_pred = model.predict(val_images)\n",
    "# category_val_preds.append(category_val_pred.argmax())\n",
    "# landmark_val_preds.append(landmark_val_preds)\n",
    "    \n",
    "# # Calculate the F1 macro scores for category and landmark classification\n",
    "# category_f1_macro = f1_score(val_category_labels, category_val_preds, average=\"macro\")\n",
    "# landmark_f1_macro = f1_score(val_landmark_labels, landmark_val_preds, average=\"macro\")\n"
   ]
  },
  {
   "cell_type": "code",
   "execution_count": null,
   "metadata": {},
   "outputs": [
    {
     "data": {
      "text/plain": [
       "array([11, 28, 29,  6,  5, 29, 27, 15,  2,  3, 25, 16, 28,  2, 29, 20,  7,\n",
       "       16, 23,  5,  6, 21, 19, 23, 22,  6,  0,  7, 20,  5, 13,  9,  4, 15,\n",
       "       29, 25,  5, 17,  2, 27, 20, 29, 16, 26, 13,  9,  8,  0,  1, 28, 19,\n",
       "       12, 19, 10,  8, 25, 10,  0, 27, 12, 28, 27, 17,  5,  3, 17,  5, 15,\n",
       "       25, 10, 24,  1,  3, 19, 26, 25, 17,  4,  9,  1,  1,  4, 12,  2, 20,\n",
       "       25, 15,  6, 20, 11,  0,  3,  8, 25, 18,  1, 28, 25, 21,  0,  1, 15,\n",
       "        4, 14, 25,  4, 26, 27, 28,  9,  9, 17,  1,  0, 22, 17,  7,  7, 14,\n",
       "        2,  9, 28,  8, 24,  8, 17,  5,  9, 19, 19, 14, 27, 26, 22, 18, 10,\n",
       "       13,  7])"
      ]
     },
     "execution_count": 100,
     "metadata": {},
     "output_type": "execute_result"
    }
   ],
   "source": [
    "pred_category_labels = category_val_pred.round(3).argmax(axis=-1)\n",
    "pred_landmark_labels = landmark_val_pred.round(3).argmax(axis=-1)\n",
    "pred_landmark_labels"
   ]
  },
  {
   "cell_type": "code",
   "execution_count": null,
   "metadata": {},
   "outputs": [],
   "source": [
    "tru_category_labels = val_category_labels.argmax(axis=-1)\n",
    "tru_landmark_labels = val_landmark_labels.argmax(axis=-1)"
   ]
  },
  {
   "cell_type": "code",
   "execution_count": null,
   "metadata": {},
   "outputs": [],
   "source": [
    "category_f1_macro = f1_score(pred_category_labels, tru_category_labels, average=\"macro\")\n",
    "landmark_f1_macro = f1_score(pred_landmark_labels, tru_landmark_labels, average=\"macro\")"
   ]
  },
  {
   "cell_type": "code",
   "execution_count": null,
   "metadata": {},
   "outputs": [
    {
     "data": {
      "text/plain": [
       "0.9615244870621215"
      ]
     },
     "execution_count": 92,
     "metadata": {},
     "output_type": "execute_result"
    }
   ],
   "source": [
    "category_f1_macro"
   ]
  },
  {
   "cell_type": "code",
   "execution_count": null,
   "metadata": {},
   "outputs": [
    {
     "data": {
      "text/plain": [
       "0.9179617604617605"
      ]
     },
     "execution_count": 93,
     "metadata": {},
     "output_type": "execute_result"
    }
   ],
   "source": [
    "landmark_f1_macro"
   ]
  },
  {
   "cell_type": "code",
   "execution_count": null,
   "metadata": {},
   "outputs": [
    {
     "data": {
      "text/plain": [
       "{'TianningTemplePagoda': 0,\n",
       " 'ThienMuPagoda': 1,\n",
       " 'GiantWildGoosePagoda': 2,\n",
       " 'ShwedagonPagoda': 3,\n",
       " 'FogongTemplePagoda': 4,\n",
       " 'Buckingham Palace': 5,\n",
       " 'Concertgebouw': 6,\n",
       " 'Panth‚on': 7,\n",
       " 'Academy of Athens': 8,\n",
       " 'Ripon Building': 9,\n",
       " 'Pyramid of Giza': 10,\n",
       " 'Pyramid of Djoser': 11,\n",
       " 'Santa Cecilia Acatitlan Pyramid': 12,\n",
       " 'El Castillo, Chichen Itza': 13,\n",
       " 'Louvre Pyramid': 14,\n",
       " 'Hallgr¡mskirkja': 15,\n",
       " 'Chrysler Building': 16,\n",
       " 'CCTV Headquarters': 17,\n",
       " 'eiffel': 18,\n",
       " 'Cathedral of Bras”lia': 19,\n",
       " 'Tomb of I_timad-ud-Daulah': 20,\n",
       " 'Taj Mahal': 21,\n",
       " 'Tomb of Akbar': 22,\n",
       " 'Jama Masjid': 23,\n",
       " 'Bibi Ka Maqbara': 24,\n",
       " 'St.VitusCathedral': 25,\n",
       " 'MilanCathedral': 26,\n",
       " 'ChartresCathedral': 27,\n",
       " 'CologneCathedral': 28,\n",
       " 'Notre-DameCathedral': 29}"
      ]
     },
     "execution_count": 94,
     "metadata": {},
     "output_type": "execute_result"
    }
   ],
   "source": [
    "landmark_label_to_idx"
   ]
  },
  {
   "cell_type": "code",
   "execution_count": null,
   "metadata": {},
   "outputs": [],
   "source": [
    "import numpy as np\n",
    "from tensorflow.keras.preprocessing import image\n",
    "import pandas as pd\n",
    "from tensorflow.keras.applications.efficientnet import preprocess_input\n",
    "\n",
    "# Load and preprocess the image\n",
    "img_path = \"Landmarks-v1_1/Gothic/MilanCathedral\"\n",
    "\n",
    "def model_prediction(test_dir):\n",
    "    # categories\n",
    "    categories = ['Pagodas', 'Neoclassical', 'Pyramids', 'Modern', 'Mughal', 'Gothic']\n",
    "\n",
    "    # landmarks\n",
    "    landmarks = [\n",
    "        'TianningTemplePagoda', 'ThienMuPagoda', 'GiantWildGoosePagoda', \n",
    "        'ShwedagonPagoda', 'FogongTemplePagoda', 'Buckingham Palace', 'Concertgebouw', \n",
    "        'Panth‚on', 'Academy of Athens', 'Ripon Building', 'Pyramid of Giza', 'Pyramid of Djoser', \n",
    "        'Santa Cecilia Acatitlan Pyramid', 'El Castillo, Chichen Itza', 'Louvre Pyramid', 'Hallgr¡mskirkja', \n",
    "        'Chrysler Building', 'CCTV Headquarters', 'eiffel', 'Cathedral of Bras”lia', \n",
    "        'Tomb of I_timad-ud-Daulah', 'Taj Mahal', 'Tomb of Akbar', 'Jama Masjid', \n",
    "        'Bibi Ka Maqbara', 'St.VitusCathedral', 'MilanCathedral', 'ChartresCathedral', \n",
    "        'CologneCathedral', 'Notre-DameCathedral']\n",
    "    results = []\n",
    "    \n",
    "    # Load the trained model with saved weight from local \n",
    "    model_path = \"my_model_256.h5\"\n",
    "    model = load_model(model_path)\n",
    "    \n",
    "    \n",
    "    for img_name in os.listdir(test_dir):\n",
    "        img_path = os.path.join(test_dir, img_name)\n",
    "\n",
    "        # Load and preprocess the image\n",
    "        img = image.load_img(img_path, target_size=(240, 240))     \n",
    "        img_array = image.img_to_array(img)     \n",
    "        img_array = tf.expand_dims(img_array, axis=0)\n",
    "        img_array = preprocess_input(img_array)  # Use EfficientNet's preprocess_input function\n",
    "\n",
    "        # Make the prediction\n",
    "        predictions = model.predict(img_array)\n",
    "\n",
    "        # Extract category and landmark confidences\n",
    "        category_probabilities = predictions[0]  # Assuming category output is the first branch\n",
    "        category_confidence = np.max(category_probabilities)\n",
    "        category_index = np.argmax(category_probabilities)\n",
    "\n",
    "        landmark_probabilities = predictions[1]  # Assuming landmark output is the second branch\n",
    "        landmark_confidence = np.max(landmark_probabilities)\n",
    "        landmark_index = np.argmax(landmark_probabilities)\n",
    "        \n",
    "        results.append([\n",
    "            img_name,\n",
    "            categories[category_index],\n",
    "            category_confidence,\n",
    "            landmarks[landmark_index],\n",
    "            landmark_confidence\n",
    "        ])\n",
    "\n",
    "    prediction = pd.DataFrame(\n",
    "        results, \n",
    "        columns = ['image', 'category', 'category_confidence', 'landmark', 'landmark_confidence'])\n",
    "    return prediction #data frame\n",
    "\n"
   ]
  },
  {
   "cell_type": "code",
   "execution_count": null,
   "metadata": {},
   "outputs": [
    {
     "name": "stdout",
     "output_type": "stream",
     "text": [
      "1/1 [==============================] - 1s 543ms/step\n",
      "1/1 [==============================] - 0s 34ms/step\n",
      "1/1 [==============================] - 0s 32ms/step\n",
      "1/1 [==============================] - 0s 31ms/step\n",
      "1/1 [==============================] - 0s 35ms/step\n",
      "1/1 [==============================] - 0s 33ms/step\n",
      "1/1 [==============================] - 0s 34ms/step\n",
      "1/1 [==============================] - 0s 35ms/step\n",
      "1/1 [==============================] - 0s 34ms/step\n",
      "1/1 [==============================] - 0s 33ms/step\n",
      "1/1 [==============================] - 0s 34ms/step\n",
      "1/1 [==============================] - 0s 32ms/step\n",
      "1/1 [==============================] - 0s 33ms/step\n",
      "1/1 [==============================] - 0s 32ms/step\n"
     ]
    },
    {
     "data": {
      "text/html": [
       "<div>\n",
       "<style scoped>\n",
       "    .dataframe tbody tr th:only-of-type {\n",
       "        vertical-align: middle;\n",
       "    }\n",
       "\n",
       "    .dataframe tbody tr th {\n",
       "        vertical-align: top;\n",
       "    }\n",
       "\n",
       "    .dataframe thead th {\n",
       "        text-align: right;\n",
       "    }\n",
       "</style>\n",
       "<table border=\"1\" class=\"dataframe\">\n",
       "  <thead>\n",
       "    <tr style=\"text-align: right;\">\n",
       "      <th></th>\n",
       "      <th>image</th>\n",
       "      <th>category</th>\n",
       "      <th>category_confidence</th>\n",
       "      <th>landmark</th>\n",
       "      <th>landmark_confidence</th>\n",
       "    </tr>\n",
       "  </thead>\n",
       "  <tbody>\n",
       "    <tr>\n",
       "      <th>0</th>\n",
       "      <td>MilanCathedral2.jpeg</td>\n",
       "      <td>Gothic</td>\n",
       "      <td>0.997934</td>\n",
       "      <td>MilanCathedral</td>\n",
       "      <td>0.873089</td>\n",
       "    </tr>\n",
       "    <tr>\n",
       "      <th>1</th>\n",
       "      <td>MilanCathedral10.jpeg</td>\n",
       "      <td>Gothic</td>\n",
       "      <td>0.999241</td>\n",
       "      <td>MilanCathedral</td>\n",
       "      <td>0.827370</td>\n",
       "    </tr>\n",
       "    <tr>\n",
       "      <th>2</th>\n",
       "      <td>MilanCathedral16.jpeg</td>\n",
       "      <td>Gothic</td>\n",
       "      <td>0.992122</td>\n",
       "      <td>MilanCathedral</td>\n",
       "      <td>0.702247</td>\n",
       "    </tr>\n",
       "    <tr>\n",
       "      <th>3</th>\n",
       "      <td>MilanCathedral4.jpeg</td>\n",
       "      <td>Gothic</td>\n",
       "      <td>0.996031</td>\n",
       "      <td>MilanCathedral</td>\n",
       "      <td>0.748128</td>\n",
       "    </tr>\n",
       "    <tr>\n",
       "      <th>4</th>\n",
       "      <td>MilanCathedral9.jpeg</td>\n",
       "      <td>Gothic</td>\n",
       "      <td>0.995515</td>\n",
       "      <td>MilanCathedral</td>\n",
       "      <td>0.789155</td>\n",
       "    </tr>\n",
       "    <tr>\n",
       "      <th>5</th>\n",
       "      <td>MilanCathedral17.jpeg</td>\n",
       "      <td>Gothic</td>\n",
       "      <td>0.981858</td>\n",
       "      <td>MilanCathedral</td>\n",
       "      <td>0.402655</td>\n",
       "    </tr>\n",
       "    <tr>\n",
       "      <th>6</th>\n",
       "      <td>MilanCathedral6.jpeg</td>\n",
       "      <td>Gothic</td>\n",
       "      <td>0.995372</td>\n",
       "      <td>MilanCathedral</td>\n",
       "      <td>0.695954</td>\n",
       "    </tr>\n",
       "    <tr>\n",
       "      <th>7</th>\n",
       "      <td>MilanCathedral18.jpeg</td>\n",
       "      <td>Gothic</td>\n",
       "      <td>0.983937</td>\n",
       "      <td>MilanCathedral</td>\n",
       "      <td>0.590211</td>\n",
       "    </tr>\n",
       "    <tr>\n",
       "      <th>8</th>\n",
       "      <td>MilanCathedral19.jpeg</td>\n",
       "      <td>Gothic</td>\n",
       "      <td>0.998398</td>\n",
       "      <td>MilanCathedral</td>\n",
       "      <td>0.408952</td>\n",
       "    </tr>\n",
       "    <tr>\n",
       "      <th>9</th>\n",
       "      <td>MilanCathedral7.jpeg</td>\n",
       "      <td>Gothic</td>\n",
       "      <td>0.995274</td>\n",
       "      <td>MilanCathedral</td>\n",
       "      <td>0.396173</td>\n",
       "    </tr>\n",
       "    <tr>\n",
       "      <th>10</th>\n",
       "      <td>MilanCathedral0.jpeg</td>\n",
       "      <td>Gothic</td>\n",
       "      <td>0.998850</td>\n",
       "      <td>MilanCathedral</td>\n",
       "      <td>0.887857</td>\n",
       "    </tr>\n",
       "    <tr>\n",
       "      <th>11</th>\n",
       "      <td>MilanCathedral12.jpeg</td>\n",
       "      <td>Gothic</td>\n",
       "      <td>0.996764</td>\n",
       "      <td>MilanCathedral</td>\n",
       "      <td>0.799119</td>\n",
       "    </tr>\n",
       "    <tr>\n",
       "      <th>12</th>\n",
       "      <td>MilanCathedral13.jpeg</td>\n",
       "      <td>Gothic</td>\n",
       "      <td>0.999241</td>\n",
       "      <td>MilanCathedral</td>\n",
       "      <td>0.853083</td>\n",
       "    </tr>\n",
       "    <tr>\n",
       "      <th>13</th>\n",
       "      <td>MilanCathedral1.jpeg</td>\n",
       "      <td>Gothic</td>\n",
       "      <td>0.998326</td>\n",
       "      <td>MilanCathedral</td>\n",
       "      <td>0.845940</td>\n",
       "    </tr>\n",
       "  </tbody>\n",
       "</table>\n",
       "</div>"
      ],
      "text/plain": [
       "                    image category  category_confidence        landmark   \n",
       "0    MilanCathedral2.jpeg   Gothic             0.997934  MilanCathedral  \\\n",
       "1   MilanCathedral10.jpeg   Gothic             0.999241  MilanCathedral   \n",
       "2   MilanCathedral16.jpeg   Gothic             0.992122  MilanCathedral   \n",
       "3    MilanCathedral4.jpeg   Gothic             0.996031  MilanCathedral   \n",
       "4    MilanCathedral9.jpeg   Gothic             0.995515  MilanCathedral   \n",
       "5   MilanCathedral17.jpeg   Gothic             0.981858  MilanCathedral   \n",
       "6    MilanCathedral6.jpeg   Gothic             0.995372  MilanCathedral   \n",
       "7   MilanCathedral18.jpeg   Gothic             0.983937  MilanCathedral   \n",
       "8   MilanCathedral19.jpeg   Gothic             0.998398  MilanCathedral   \n",
       "9    MilanCathedral7.jpeg   Gothic             0.995274  MilanCathedral   \n",
       "10   MilanCathedral0.jpeg   Gothic             0.998850  MilanCathedral   \n",
       "11  MilanCathedral12.jpeg   Gothic             0.996764  MilanCathedral   \n",
       "12  MilanCathedral13.jpeg   Gothic             0.999241  MilanCathedral   \n",
       "13   MilanCathedral1.jpeg   Gothic             0.998326  MilanCathedral   \n",
       "\n",
       "    landmark_confidence  \n",
       "0              0.873089  \n",
       "1              0.827370  \n",
       "2              0.702247  \n",
       "3              0.748128  \n",
       "4              0.789155  \n",
       "5              0.402655  \n",
       "6              0.695954  \n",
       "7              0.590211  \n",
       "8              0.408952  \n",
       "9              0.396173  \n",
       "10             0.887857  \n",
       "11             0.799119  \n",
       "12             0.853083  \n",
       "13             0.845940  "
      ]
     },
     "execution_count": 119,
     "metadata": {},
     "output_type": "execute_result"
    }
   ],
   "source": [
    "model_prediction(img_path)"
   ]
  },
  {
   "cell_type": "code",
   "execution_count": null,
   "metadata": {},
   "outputs": [],
   "source": []
  }
 ],
 "metadata": {
  "kernelspec": {
   "display_name": "Python 3.10.8 ('group')",
   "language": "python",
   "name": "python3"
  },
  "language_info": {
   "codemirror_mode": {
    "name": "ipython",
    "version": 3
   },
   "file_extension": ".py",
   "mimetype": "text/x-python",
   "name": "python",
   "nbconvert_exporter": "python",
   "pygments_lexer": "ipython3",
   "version": "3.10.8"
  },
  "orig_nbformat": 4,
  "vscode": {
   "interpreter": {
    "hash": "e6c49a861846531c6b2d55bcf4672a41304f6193addfe0c97ef1121b7118742f"
   }
  }
 },
 "nbformat": 4,
 "nbformat_minor": 2
}
